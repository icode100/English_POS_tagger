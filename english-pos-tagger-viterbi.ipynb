{
 "cells": [
  {
   "cell_type": "markdown",
   "id": "9bb9e815",
   "metadata": {
    "papermill": {
     "duration": 0.004281,
     "end_time": "2024-03-23T16:23:17.731235",
     "exception": false,
     "start_time": "2024-03-23T16:23:17.726954",
     "status": "completed"
    },
    "tags": []
   },
   "source": [
    "# Data preprocessing\n",
    "here we obtain the data from the json file and then process it by adding start and end tokens to it and then define the vocabulary, sentence list and also the tags (or the state) corresponding to each observation (or words). These will be helpful for us in determining the parameters of **Hidden Markov Model later**"
   ]
  },
  {
   "cell_type": "code",
   "execution_count": 1,
   "id": "150f937d",
   "metadata": {
    "execution": {
     "iopub.execute_input": "2024-03-23T16:23:17.740105Z",
     "iopub.status.busy": "2024-03-23T16:23:17.739758Z",
     "iopub.status.idle": "2024-03-23T16:25:03.723659Z",
     "shell.execute_reply": "2024-03-23T16:25:03.722790Z"
    },
    "papermill": {
     "duration": 105.991052,
     "end_time": "2024-03-23T16:25:03.726288",
     "exception": false,
     "start_time": "2024-03-23T16:23:17.735236",
     "status": "completed"
    },
    "tags": []
   },
   "outputs": [
    {
     "name": "stdout",
     "output_type": "stream",
     "text": [
      "length of dataset is 76436\n"
     ]
    }
   ],
   "source": [
    "import pandas as pd\n",
    "import json\n",
    "from collections import defaultdict,Counter\n",
    "\n",
    "with open('/kaggle/input/annotated-dataset-for-pos-tagging/dev.json', 'r') as f:\n",
    "    json_data = f.read()\n",
    "with open('/kaggle/input/annotated-dataset-for-pos-tagging/train.json','r') as f:\n",
    "    json_data = f.read()\n",
    "    \n",
    "dataset_1 = json.loads(json_data)\n",
    "for item in dataset_1:\n",
    "    item['sentence'].insert(0,'<s>')\n",
    "    item['sentence'].append('</s>')\n",
    "    item['labels'].insert(0,'<s>')\n",
    "    item['labels'].append('</s>')\n",
    "dataset_2 = json.loads(json_data)\n",
    "for item in dataset_2:\n",
    "    item['sentence'].insert(0,'<s>')\n",
    "    item['sentence'].append('</s>')\n",
    "    item['labels'].insert(0,'<s>')\n",
    "    item['labels'].append('</s>')\n",
    "dataset = dataset_1+dataset_2\n",
    "print(f'length of dataset is {len(dataset)}')\n",
    "\n",
    "state_tags = defaultdict(set)\n",
    "sentences = list()\n",
    "state_seq = list()\n",
    "vocab = set()\n",
    "tags = set()\n",
    "tag_count = defaultdict(int)\n",
    "word_count = defaultdict(int)\n",
    "tag_zipped_words = list()\n",
    "from copy import deepcopy\n",
    "for item in dataset:\n",
    "    sentences.append(item['sentence'])\n",
    "    state_seq.append(item['labels'])\n",
    "    tag_zipped_words.append(deepcopy(list(zip(item['sentence'],item['labels']))))\n",
    "    for word,count in list(Counter(item['sentence']).items()):\n",
    "        word_count[word]+=count\n",
    "    for tag,count in list(Counter(item['labels']).items()):\n",
    "        tag_count[tag]+=count   \n",
    "    vocab = vocab.union(set(item['sentence']))\n",
    "    tags = tags.union(set(item['labels']))\n",
    "    for i,word in enumerate(item['sentence']):\n",
    "        state_tags[word].add(item['labels'][i])"
   ]
  },
  {
   "cell_type": "markdown",
   "id": "cccee4f1",
   "metadata": {
    "papermill": {
     "duration": 0.003704,
     "end_time": "2024-03-23T16:25:03.734299",
     "exception": false,
     "start_time": "2024-03-23T16:25:03.730595",
     "status": "completed"
    },
    "tags": []
   },
   "source": [
    "# Determining Parameters of model\n",
    "here we define the parameters of the model which are:\n",
    "* $ \\text{emission matrix B, where } B_i(o_t) = P(o_t|q_i)$\n",
    "* $ \\text{transition matrix A, where } A_{i-1,i} = P(q_{i}|q_{i-1})$\n",
    "* $ \\text{initial probabilities } \\pi \\text{ where } \\pi_i = \\text{initial probabilities of }i^{th}\\text{label}$\n",
    "\n"
   ]
  },
  {
   "cell_type": "code",
   "execution_count": 2,
   "id": "43bc0f54",
   "metadata": {
    "execution": {
     "iopub.execute_input": "2024-03-23T16:25:03.743196Z",
     "iopub.status.busy": "2024-03-23T16:25:03.742796Z",
     "iopub.status.idle": "2024-03-23T16:25:05.318040Z",
     "shell.execute_reply": "2024-03-23T16:25:05.317045Z"
    },
    "papermill": {
     "duration": 1.582338,
     "end_time": "2024-03-23T16:25:05.320439",
     "exception": false,
     "start_time": "2024-03-23T16:25:03.738101",
     "status": "completed"
    },
    "tags": []
   },
   "outputs": [],
   "source": [
    "A = defaultdict(lambda:defaultdict(float)) # transition matrix\n",
    "B = defaultdict(lambda:defaultdict(float)) # emmision matrix\n",
    "PI = defaultdict(float)\n",
    "\n",
    "for item in state_seq:\n",
    "    for i_1,i in zip(item,item[1:]):\n",
    "        A[i_1][i]+=1\n",
    "\n",
    "for item in A.keys():\n",
    "    for key in A[item].keys():\n",
    "        A[item][key] = A[item][key]/tag_count[item]\n",
    "    \n",
    "PI = A['<s>']\n",
    "for item in tag_zipped_words:\n",
    "    for obs,state in list(item):\n",
    "        B[state][obs]+=1\n",
    "for item in B.keys():\n",
    "    for key in B[item].keys():\n",
    "        B[item][key] /= tag_count[item]\n",
    "    \n",
    "\n"
   ]
  },
  {
   "cell_type": "markdown",
   "id": "7c79b86e",
   "metadata": {
    "papermill": {
     "duration": 0.003744,
     "end_time": "2024-03-23T16:25:05.328459",
     "exception": false,
     "start_time": "2024-03-23T16:25:05.324715",
     "status": "completed"
    },
    "tags": []
   },
   "source": [
    "# Viterbi algorithm"
   ]
  },
  {
   "cell_type": "code",
   "execution_count": 3,
   "id": "8819dec7",
   "metadata": {
    "execution": {
     "iopub.execute_input": "2024-03-23T16:25:05.337361Z",
     "iopub.status.busy": "2024-03-23T16:25:05.337072Z",
     "iopub.status.idle": "2024-03-23T16:25:05.345609Z",
     "shell.execute_reply": "2024-03-23T16:25:05.344800Z"
    },
    "papermill": {
     "duration": 0.015269,
     "end_time": "2024-03-23T16:25:05.347543",
     "exception": false,
     "start_time": "2024-03-23T16:25:05.332274",
     "status": "completed"
    },
    "tags": []
   },
   "outputs": [],
   "source": [
    "def viterbi(sentence):\n",
    "    sentence = sentence.strip().split()\n",
    "    memo = defaultdict(lambda: defaultdict(tuple))\n",
    "    w = sentence[0]\n",
    "    for tags in state_tags[w]:\n",
    "        memo[0][tags] = (PI[tags],'<s>')\n",
    "    for i in range(1,len(sentence)):\n",
    "        w = sentence[i]\n",
    "        tags = state_tags[w]\n",
    "        for tag in tags:\n",
    "            emission = B[tag][w]\n",
    "            memo[i][tag] = (-1e9,'')\n",
    "            for t,(prior,path) in memo[i-1].items():\n",
    "                transition = A[t][tag]\n",
    "                curr_prob = transition * emission * prior\n",
    "                if curr_prob>memo[i][tag][0]:\n",
    "                    memo[i][tag] = (curr_prob,f'{path},{tag}')\n",
    "    n = len(sentence)\n",
    "    res = ''\n",
    "    check = -1e9\n",
    "    for t,(prior,path) in memo[n-1].items():\n",
    "        if prior>check:\n",
    "            check = prior\n",
    "            res = path\n",
    "    return res\n",
    "    "
   ]
  },
  {
   "cell_type": "markdown",
   "id": "668b0af8",
   "metadata": {
    "papermill": {
     "duration": 0.003592,
     "end_time": "2024-03-23T16:25:05.355008",
     "exception": false,
     "start_time": "2024-03-23T16:25:05.351416",
     "status": "completed"
    },
    "tags": []
   },
   "source": [
    "# demo test"
   ]
  },
  {
   "cell_type": "code",
   "execution_count": 4,
   "id": "b7d88dd4",
   "metadata": {
    "execution": {
     "iopub.execute_input": "2024-03-23T16:25:05.363646Z",
     "iopub.status.busy": "2024-03-23T16:25:05.363386Z",
     "iopub.status.idle": "2024-03-23T16:25:05.369463Z",
     "shell.execute_reply": "2024-03-23T16:25:05.368637Z"
    },
    "papermill": {
     "duration": 0.012586,
     "end_time": "2024-03-23T16:25:05.371422",
     "exception": false,
     "start_time": "2024-03-23T16:25:05.358836",
     "status": "completed"
    },
    "tags": []
   },
   "outputs": [
    {
     "data": {
      "text/plain": [
       "'<s>,DT,NN,RB,JJR,TO,VB,NN'"
      ]
     },
     "execution_count": 4,
     "metadata": {},
     "output_type": "execute_result"
    }
   ],
   "source": [
    "viterbi(\"increase the pressure further more to get success\")"
   ]
  },
  {
   "cell_type": "markdown",
   "id": "111b237c",
   "metadata": {
    "papermill": {
     "duration": 0.003724,
     "end_time": "2024-03-23T16:25:05.379121",
     "exception": false,
     "start_time": "2024-03-23T16:25:05.375397",
     "status": "completed"
    },
    "tags": []
   },
   "source": [
    "# HMM model\n",
    "Here we create an HMM model using pytorch and combine all the previously defined steps in the init method and running the virerbi in the forward method"
   ]
  },
  {
   "cell_type": "code",
   "execution_count": 5,
   "id": "6948ad56",
   "metadata": {
    "execution": {
     "iopub.execute_input": "2024-03-23T16:25:05.388114Z",
     "iopub.status.busy": "2024-03-23T16:25:05.387870Z",
     "iopub.status.idle": "2024-03-23T16:25:09.331267Z",
     "shell.execute_reply": "2024-03-23T16:25:09.330411Z"
    },
    "papermill": {
     "duration": 3.950707,
     "end_time": "2024-03-23T16:25:09.333719",
     "exception": false,
     "start_time": "2024-03-23T16:25:05.383012",
     "status": "completed"
    },
    "tags": []
   },
   "outputs": [],
   "source": [
    "import torch \n",
    "import torch.nn as nn\n",
    "from collections import defaultdict,Counter\n",
    "class HMM(nn.Module):\n",
    "    def __init__(self,train_set):\n",
    "        super(HMM,self).__init__()\n",
    "        # data processing\n",
    "        self.state_tags = defaultdict(set)\n",
    "        self.sentences = list()\n",
    "        self.state_seq = list()\n",
    "        self.vocab = set()\n",
    "        self.tags = set()\n",
    "        self.tag_count = defaultdict(int)\n",
    "        self.word_count = defaultdict(int)\n",
    "        self.tag_zipped_words = list()\n",
    "        from copy import deepcopy\n",
    "        for item in dataset:\n",
    "            self.sentences.append(item['sentence'])\n",
    "            self.state_seq.append(item['labels'])\n",
    "            self.tag_zipped_words.append(deepcopy(list(zip(item['sentence'],item['labels']))))\n",
    "            for word,count in list(Counter(item['sentence']).items()):\n",
    "                self.word_count[word]+=count\n",
    "            for tag,count in list(Counter(item['labels']).items()):\n",
    "                self.tag_count[tag]+=count   \n",
    "            self.vocab = self.vocab.union(set(item['sentence']))\n",
    "            self.tags = self.tags.union(set(item['labels']))\n",
    "            for i,word in enumerate(item['sentence']):\n",
    "                self.state_tags[word].add(item['labels'][i])\n",
    "        \n",
    "        # parameters\n",
    "        self.A = defaultdict(lambda:defaultdict(float)) # transition matrix\n",
    "        self.B = defaultdict(lambda:defaultdict(float)) # emmision matrix\n",
    "        self.PI = defaultdict(float)\n",
    "\n",
    "        for item in self.state_seq:\n",
    "            for i_1,i in zip(item,item[1:]):\n",
    "                self.A[i_1][i]+=1\n",
    "\n",
    "        for item in self.A.keys():\n",
    "            for key in self.A[item].keys():\n",
    "                self.A[item][key] = self.A[item][key]/self.tag_count[item]\n",
    "\n",
    "        self.PI = self.A['<s>']\n",
    "        for item in self.tag_zipped_words:\n",
    "            for obs,state in list(item):\n",
    "                self.B[state][obs]+=1\n",
    "        for item in self.B.keys():\n",
    "            for key in self.B[item].keys():\n",
    "                self.B[item][key] /= self.tag_count[item]\n",
    "    def forward(self,sentence):\n",
    "        sentence = sentence.strip().split()\n",
    "        memo = defaultdict(lambda: defaultdict(tuple))\n",
    "        w = sentence[0]\n",
    "        for tags in self.state_tags[w]:\n",
    "            memo[0][tags] = (self.PI[tags],'<s>')\n",
    "        for i in range(1,len(sentence)):\n",
    "            w = sentence[i]\n",
    "            tags = self.state_tags[w]\n",
    "            for tag in tags:\n",
    "                emission = self.B[tag][w]\n",
    "                memo[i][tag] = (-1e9,'')\n",
    "                for t,(prior,path) in memo[i-1].items():\n",
    "                    transition = self.A[t][tag]\n",
    "                    curr_prob = transition * emission * prior\n",
    "                    if curr_prob>memo[i][tag][0]:\n",
    "                        memo[i][tag] = (curr_prob,f'{path},{tag}')\n",
    "        n = len(sentence)\n",
    "        res = ''\n",
    "        check = -1e9\n",
    "        for t,(prior,path) in memo[n-1].items():\n",
    "            if prior>check:\n",
    "                check = prior\n",
    "                res = path\n",
    "        return res\n",
    "    "
   ]
  },
  {
   "cell_type": "markdown",
   "id": "6fb63d3e",
   "metadata": {
    "papermill": {
     "duration": 0.003909,
     "end_time": "2024-03-23T16:25:09.342092",
     "exception": false,
     "start_time": "2024-03-23T16:25:09.338183",
     "status": "completed"
    },
    "tags": []
   },
   "source": [
    "# Training and testing the HMM \n",
    "instantiating the HMM object by passing a training dataset will build the parameter matrices automatically "
   ]
  },
  {
   "cell_type": "code",
   "execution_count": 6,
   "id": "105ce1ff",
   "metadata": {
    "execution": {
     "iopub.execute_input": "2024-03-23T16:25:09.351176Z",
     "iopub.status.busy": "2024-03-23T16:25:09.350758Z",
     "iopub.status.idle": "2024-03-23T16:27:01.967863Z",
     "shell.execute_reply": "2024-03-23T16:27:01.967009Z"
    },
    "papermill": {
     "duration": 112.624216,
     "end_time": "2024-03-23T16:27:01.970215",
     "exception": false,
     "start_time": "2024-03-23T16:25:09.345999",
     "status": "completed"
    },
    "tags": []
   },
   "outputs": [],
   "source": [
    "model = HMM(dataset)"
   ]
  },
  {
   "cell_type": "code",
   "execution_count": 7,
   "id": "434a159d",
   "metadata": {
    "execution": {
     "iopub.execute_input": "2024-03-23T16:27:01.980890Z",
     "iopub.status.busy": "2024-03-23T16:27:01.980610Z",
     "iopub.status.idle": "2024-03-23T16:27:01.989049Z",
     "shell.execute_reply": "2024-03-23T16:27:01.988262Z"
    },
    "papermill": {
     "duration": 0.016426,
     "end_time": "2024-03-23T16:27:01.991055",
     "exception": false,
     "start_time": "2024-03-23T16:27:01.974629",
     "status": "completed"
    },
    "tags": []
   },
   "outputs": [
    {
     "data": {
      "text/plain": [
       "'<s>,MD,VB,JJ,TO,VB,RB'"
      ]
     },
     "execution_count": 7,
     "metadata": {},
     "output_type": "execute_result"
    }
   ],
   "source": [
    "model('I will work hard to do well ')"
   ]
  }
 ],
 "metadata": {
  "kaggle": {
   "accelerator": "gpu",
   "dataSources": [
    {
     "datasetId": 3919443,
     "sourceId": 6813582,
     "sourceType": "datasetVersion"
    }
   ],
   "dockerImageVersionId": 30673,
   "isGpuEnabled": true,
   "isInternetEnabled": true,
   "language": "python",
   "sourceType": "notebook"
  },
  "kernelspec": {
   "display_name": "Python 3",
   "language": "python",
   "name": "python3"
  },
  "language_info": {
   "codemirror_mode": {
    "name": "ipython",
    "version": 3
   },
   "file_extension": ".py",
   "mimetype": "text/x-python",
   "name": "python",
   "nbconvert_exporter": "python",
   "pygments_lexer": "ipython3",
   "version": "3.10.13"
  },
  "papermill": {
   "default_parameters": {},
   "duration": 228.852225,
   "end_time": "2024-03-23T16:27:03.818114",
   "environment_variables": {},
   "exception": null,
   "input_path": "__notebook__.ipynb",
   "output_path": "__notebook__.ipynb",
   "parameters": {},
   "start_time": "2024-03-23T16:23:14.965889",
   "version": "2.5.0"
  }
 },
 "nbformat": 4,
 "nbformat_minor": 5
}
